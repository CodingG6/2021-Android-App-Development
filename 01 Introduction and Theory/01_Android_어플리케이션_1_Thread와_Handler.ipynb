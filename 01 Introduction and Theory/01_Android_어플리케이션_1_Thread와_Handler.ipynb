{
  "nbformat": 4,
  "nbformat_minor": 0,
  "metadata": {
    "colab": {
      "name": "01 Android 어플리케이션 1 - Thread와 Handler.ipynb",
      "provenance": [],
      "collapsed_sections": []
    },
    "kernelspec": {
      "name": "python3",
      "display_name": "Python 3"
    },
    "language_info": {
      "name": "python"
    }
  },
  "cells": [
    {
      "cell_type": "markdown",
      "metadata": {
        "id": "34PU0BcTa3H0"
      },
      "source": [
        "# 01 Android 어플리케이션  1 - 쓰레드와 핸들러\n",
        "(thread and handler)"
      ]
    },
    {
      "cell_type": "markdown",
      "metadata": {
        "id": "7FD5BRwKa1q8"
      },
      "source": [
        "## 1) 안드로이드에서의 쓰레드\n",
        "- 안드로이드 애플리케이션이 처음 시작되면 런타임 시스템에서 하나의 Thread를 생성한다. 모든 애플리케이션 컴포넌트는 기본적으로 그 Thread (main thread) 내에서 실행된다.\n",
        "- 메인 Thread는 주로 사용자 인터페이스를 처리함. \n",
        "- 메인 Thread에서 시간이 오래 걸리는 작업을 수행하는 애플리케이션의 컴포넌트가 있으면 해당 작업이 끝날 때까지 애플리케이션이 멈춘 것처럼 보임. 그래서 메인 Thread에서 시간이 오래 걸리는 작업을 하면 안됨!\n",
        "- 메인 Thread 이외의 다른 Thread 코드에서는 사용자 인터페이스를 직접 변경할 수 없음\n",
        "  - 이유는 바로 안드로이드의 UI 툴킷이 Thread에 안전하지 않기 때문\n",
        "  - 여러 Thread가 동시에 실행되면서 각종 리소스를 공유할 때 생길 수 있는 문제에 대비를 하지 못하기 때문이다하하"
      ]
    },
    {
      "cell_type": "markdown",
      "metadata": {
        "id": "58gRbu_Qs_Iy"
      },
      "source": [
        "- 표준 자바로 지원 \n",
        "  – Thread 클래스로부터 상속받는 클래스를 생성 후 객체 생성하는 방법\n",
        "    ```Thread ()```\n",
        "  - Runnable 인터페이스 구현 객체를 생성 후 Thread의 생성자로 전달하는 방법이 있음.\n",
        "    - ```Thread (Runnable runnable)```\n",
        "    - 리턴을 받고자 하면 Callable 인터페이스 구현\n",
        "\n",
        "<br />\n",
        "\n",
        "- Thread의 수행 내용\n",
        "  - void run() 메소드를 재정의해서 작성\n",
        "- Thread의 시작\n",
        "  - Thread객체.start()"
      ]
    },
    {
      "cell_type": "code",
      "metadata": {
        "id": "zCG__Uiiaw8_"
      },
      "source": [
        "# Thread 클래스를 상속\n",
        "\n",
        "class MyThread extends Thread {\n",
        "  public void run() {\n",
        "  }\n",
        "}\n",
        "MyThread thread=new MyThread();\n",
        "thread.start();"
      ],
      "execution_count": null,
      "outputs": []
    },
    {
      "cell_type": "code",
      "metadata": {
        "id": "J64TwJ1mtYuP"
      },
      "source": [
        "# Runnable 인터페이스를 구현\n",
        "\n",
        "class MyThread implements Runnable {\n",
        "  public void run() {\n",
        "  }\n",
        "}\n",
        "MyThread runnable = new MyThread();\n",
        "Thread thread = new Thread(runnable);\n",
        "thread.start();"
      ],
      "execution_count": null,
      "outputs": []
    },
    {
      "cell_type": "markdown",
      "metadata": {
        "id": "3Iz9msjbu27q"
      },
      "source": [
        "### 쓰레드와 다중 쓰레드 \n",
        "Thread and Multi Thread\n",
        "- 한 번에 여러 개의 작업을 동시에 실행할 수 있도록 해주는 것\n",
        "- Thread 간의 동기화를 고려하여 소프트웨어를 설계해야 하므로 복잡성이 증가한다.\n",
        "- 안드로이드는 멀티 Thread 지원\n",
        "  - 기반인 리눅스가 멀티 Thread 운영체제\n",
        "  - 주 개발 언어인 자바가 가상 머신 차원에서 멀티 Thread 지원\n",
        "  - 백그라운드 작업에 유리하며 다소 복잡한 구조의 응용 프로그램도 쉽게 개발 가능\n",
        "  - 안드로이드에서 메인 Thread 이외의 Thread에서는 UI 수정 작업이 불가능. UI 변경은 메인 Thread에서 수행(최근의 API에서는 가능)\n",
        "  - 메인 Thread에서 주기적인 UI 갱신을 하려고 할 때 **Handler를 이용하지 않으면 모아서 한꺼번에 처리**하려고 하는데 이게 **오류를 발생**시킬 수 있음."
      ]
    },
    {
      "cell_type": "markdown",
      "metadata": {
        "id": "sXGfsXFovZVo"
      },
      "source": [
        "## 2) 핸들러 \n",
        "Handler\n",
        "- Thread 간에 메시지나 Runnable 객체를 통해 메시지를 주고 받는 장치\n",
        "- 추상 클래스로 제공\n",
        "- 매개변수가 없는 생성자는 deprecated 되었으며 Looper를 대입하는 생성자로 인스턴스를 생성하는 것을 권장\n",
        "- 하나의 Thread와 관련을 맺으며 자신을 생성하는 Thread에 부착해서 그 Thread의 메시지 큐를 통해 다른 Thread와 통신"
      ]
    },
    {
      "cell_type": "markdown",
      "metadata": {
        "id": "Hb0Kx4I1v5KH"
      },
      "source": [
        "- 안드로이드에서 화면을 갱신하는 코드를 메인 Thread 이외의 클래스의 run 메소드에 직접 기재하면 에러가 발생한다. Handler 객체에게 메시지를 전달 한 후 작업을 수행해야 한다. \n",
        "- 메시지 전송\n",
        "  - 메시지를 보내는 쪽에서 전달하고자 하는 내용을 Message 객체에 저장하여 Handler로 전송 시 이용하는 메소드\n",
        "    - ```sendMessage(Message msg)```: Main(UI) Thread에 의뢰\n",
        "    - ```sendMessageAtFrontOfQueue(Message msg)```: 이번 의뢰를 가장 먼저 처리\n",
        "    - ```sendMessageAtTime(Message msg, long uptimeMillis)```: 지정된 시간에 수행해 달\n",
        "라는 요청\n",
        "    - ```sendMessageDelayed(Message msg, long delayMillis)```: 의뢰를 바로 처리하지 말\n",
        "고 지정 시간 후에 수행해 달라는 요청\n",
        "    - ```sendEmptyMessage(int what)```: 데이터 전달 없이 의뢰하는 경우\n",
        "  - 메시지를 보내면 Handler의 handleMessage 메소드가 호출되며 이 메소드에 전달된 메시지의 의미를 파악하여 신호나 명령에 응답함.\n",
        "- Message 객체는 디폴트 생성자로 생성한 후 필드의 값을 채워도 되고 obtain이라는 팩토리 메소드를 이용하는 것도 가능"
      ]
    },
    {
      "cell_type": "markdown",
      "metadata": {
        "id": "_dxpBjkdwW4d"
      },
      "source": [
        "Message\n",
        "- 스레드가 핸들러에게 데이터를 전달하기 위한 객체\n",
        "- 특징:\n",
        "  - ```int what```: 스레드를 구분하기 위한 코드로 주로 이용\n",
        "  - ```int arg1```: 부가 정보\n",
        "  - ```int arg2```: 부가 정보\n",
        "  - ```Object obj```: 부가 정보 – 데이터는 보통 여기에 저장\n",
        "  - ```Messenger replyTo```"
      ]
    },
    {
      "cell_type": "markdown",
      "metadata": {
        "id": "25W9GIJNxXaP"
      },
      "source": [
        "```post``` 요청\n",
        "- UI를 변경하는 코드는 Handler 객체의 post 메소드에게 Thread 객체를 생성해서 넘겨도 가능\n",
        "- 일정시간 Delayed 시켜주는 postDelayed 메소드도 존재\n",
        "- post와 send의 차이점\n",
        "  - ```send```는 바로 처리해야 하는 요청\n",
        "  - ```post``` 다른 요청이 없으면 처리해달라는 요청"
      ]
    },
    {
      "cell_type": "markdown",
      "metadata": {
        "id": "BkKmKQ4nyBaX"
      },
      "source": [
        "작업 스케줄링\n",
        "ü지연 시간\n",
        "q실제 필요한 시간은 CPU의 성능이나 click 아래쪽의 코드 존재 여부에 따라 달라짐\n",
        "qclick이 리턴할 정도의 시간이면 충분함\n",
        "ü View 클래스의 메소드를 사용하여 러너블 전송\n",
        "qView가 속한 Thread의 큐를 찾아 러너블을 전송하므로 Handler가 없어도 상관 없음\n",
        "qpost : 지연 시간없이 러너블을 큐에 삽입\n",
        "qpostDelayed : 지연 시간을 두고 삽입\n",
        "q러너블 삽입 성공 시 true를 리턴하며 실패 시 false를 리턴\n",
        "o true가 리턴되어도 러너블이 실행된 것은 아님"
      ]
    },
    {
      "cell_type": "markdown",
      "metadata": {
        "id": "cybsrVOIyIh2"
      },
      "source": [
        "작업 스케줄링\n",
        "- 지연 시간\n",
        "  - 실제 필요한 시간은 CPU의 성능이나 click 아래쪽의 코드 존재 여부에 따라 달라짐\n",
        "  - click이 리턴할 정도의 시간이면 충분함\n",
        "- View 클래스의 메소드를 사용하여 러너블 전송\n",
        "  - View가 속한 Thread의 큐를 찾아 러너블을 전송하므로 Handler가 없어도 무관\n",
        "        boolean post (Runnable action)\n",
        "        boolean postDelayed (Runnable action, long delayMillis)\n",
        "  - post : 지연 시간없이 러너블을 큐에 삽입\n",
        "  - postDelayed : 지연 시간을 두고 삽입\n",
        "  - 러너블 삽입 성공 시 true를 리턴하며 실패 시 false를 리턴\n",
        "    - ```true```가 리턴되어도 러너블이 실행된 것은 아님"
      ]
    },
    {
      "cell_type": "code",
      "metadata": {
        "id": "maXc1FjAa5oD"
      },
      "source": [
        "# activity_main.xml \n",
        "\n",
        "<?xml version=\"1.0\" encoding=\"utf-8\"?>\n",
        "<androidx.constraintlayout.widget.ConstraintLayout xmlns:android=\"http://schemas.android.com/apk/res/android\"\n",
        "    xmlns:app=\"http://schemas.android.com/apk/res-auto\"\n",
        "    xmlns:tools=\"http://schemas.android.com/tools\"\n",
        "    android:layout_width=\"match_parent\"\n",
        "    android:layout_height=\"match_parent\"\n",
        "    android:orientation=\"vertical\"\n",
        "    tools:context=\".MainActivity\">\n",
        "\n",
        "    <TextView\n",
        "        android:layout_width=\"match_parent\"\n",
        "        android:layout_height=\"wrap_content\"\n",
        "        android:text=\"My second android project...!\"\n",
        "        android:id=\"@+id/txt\"\n",
        "        app:layout_constraintBottom_toBottomOf=\"parent\"\n",
        "        app:layout_constraintLeft_toLeftOf=\"parent\"\n",
        "        app:layout_constraintRight_toRightOf=\"parent\"\n",
        "        app:layout_constraintTop_toTopOf=\"parent\" />\n",
        "\n",
        "    <Button\n",
        "        android:layout_width=\"match_parent\"\n",
        "        android:layout_height=\"wrap_content\"\n",
        "        android:text=\"start\"\n",
        "        android:id=\"@+id/btn\" />\n",
        "\n",
        "</androidx.constraintlayout.widget.ConstraintLayout>"
      ],
      "execution_count": null,
      "outputs": []
    },
    {
      "cell_type": "code",
      "metadata": {
        "id": "9KGFNicRxEBy"
      },
      "source": [
        "# MainActivity.java\n",
        "\n",
        "public class MainActivity extends AppCompatActivity {\n",
        "\n",
        "    TextView txt;\n",
        "    Button btn;\n",
        "\n",
        "    // index variable\n",
        "    int value;\n",
        "\n",
        "    // Create an handler - this is an instance of a class that inherits from Handler class.\n",
        "    // This is called 'Anonymous Class' in java.\n",
        "    Handler handler = new Handler(Looper.getMainLooper()){\n",
        "        @Override\n",
        "        public void handleMessage(Message msg){\n",
        "            txt.setText(value + \"\");\n",
        "        }\n",
        "    };\n",
        "\n",
        "    class ValueThread extends Thread {\n",
        "        public void run(){\n",
        "            try{\n",
        "                for(int i=0; i<10; i=i+1){\n",
        "                    value = value + 1;\n",
        "                    // Sleep for 1 second.\n",
        "                    Thread.sleep(1000);\n",
        "                    // Sends message to Handler to handle the task.\n",
        "                    handler.sendEmptyMessage(0);\n",
        "                }\n",
        "            } catch(Exception e){}\n",
        "        }\n",
        "    }\n",
        "\n",
        "    @Override\n",
        "    protected void onCreate(Bundle savedInstanceState) {\n",
        "        super.onCreate(savedInstanceState);\n",
        "        setContentView(R.layout.activity_main);\n",
        "\n",
        "        txt = (TextView)findViewById(R.id.txt);\n",
        "        btn = (Button)findViewById(R.id.btn);\n",
        "\n",
        "        btn.setOnClickListener(new View.OnClickListener() {\n",
        "\n",
        "            @Override\n",
        "            public void onClick(View view){\n",
        "                ValueThread th = new ValueThread();\n",
        "                th.start();\n",
        "            }\n",
        "\n",
        "        });\n",
        "    }\n",
        "}"
      ],
      "execution_count": null,
      "outputs": []
    },
    {
      "cell_type": "code",
      "metadata": {
        "colab": {
          "base_uri": "https://localhost:8080/",
          "height": 446
        },
        "id": "6n1P5AqfcMLi",
        "outputId": "a07ce8cb-ad81-42bd-8ed7-c7b017634d78"
      },
      "source": [
        "import cv2\n",
        "from google.colab.patches import cv2_imshow\n",
        "\n",
        "path = \"/content/MainActivity.png\"\n",
        "img = cv2.imread(path)\n",
        "img = cv2.resize(img, dsize=(0,0), fx=0.5, fy=0.5)\n",
        "cv2_imshow(img)"
      ],
      "execution_count": null,
      "outputs": [
        {
          "output_type": "display_data",
          "data": {
            "image/png": "[encoded data removed]",
            "text/plain": [
              "<PIL.Image.Image image mode=RGB size=250x429 at 0x7FCCC56BE910>"
            ]
          },
          "metadata": {}
        }
      ]
    },
    {
      "cell_type": "markdown",
      "metadata": {
        "id": "nsTMm1XYyb4t"
      },
      "source": [
        "Looper\n",
        "\n",
        "- MessageQueue를 감시하고 있다가 필요한 경우 메시지를 추출하고 추출한 메시지를 Handler의 handleMessage 메소드를 호출해서 전달하는 전달자\n",
        "- 안드로이드 애플리케이션에는 내부적으로 1개의 Looper 할당\n",
        "- UI 갱신은 Looper를 직접 생성하지 않고 처음부터 제공되는 ```Looper – Looper.getMainLooper()```를 이용\n",
        "- 개발자가 만든 Thread끼리의 통신은 직접 Looper를 생성해야 함"
      ]
    }
  ]
}