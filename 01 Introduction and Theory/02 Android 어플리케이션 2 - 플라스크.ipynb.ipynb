{
  "nbformat": 4,
  "nbformat_minor": 0,
  "metadata": {
    "colab": {
      "name": "02 Android 어플리케이션 2 - 플라스크.ipynb",
      "provenance": [],
      "collapsed_sections": []
    },
    "kernelspec": {
      "name": "python3",
      "display_name": "Python 3"
    },
    "language_info": {
      "name": "python"
    }
  },
  "cells": [
    {
      "cell_type": "markdown",
      "metadata": {
        "id": "wNmvYakgTvxr"
      },
      "source": [
        "# Android 어플리케이션 2 - 플라스크"
      ]
    },
    {
      "cell_type": "markdown",
      "metadata": {
        "id": "PEFhe0r_TxQj"
      },
      "source": [
        "## 3) WebView\n",
        "- URL을 출력해주는 위젯으로 외부 URL을 출력하려면 INTERNET 권한이 필요\n",
        "- WebView를 생성하고 loadUrl 메소드에 URL을 문자열로 대입하면 크롬 브라우저를 이용해서 URL을 출력. \n",
        "  - Forwarding 되는 URL은 WebView가 하고,\n",
        "  - Redirect 되는 URL은 내장 브라우저를 통해서 출력되도록 설정되어 있음.\n",
        "  - 이 경우에는 WebViewClient 객체를 setWebViewClient에 설정하면 웹 뷰에 Redirect되는 URL을 WebViewClient 객체가 처리해서 WebView에 출력함\n",
        "\n",
        "<br />\n",
        "\n",
        "특징\n",
        "- 네트워크 입출력, 캐싱, 링크 클릭 처리, 확대, 축소, 히스토리 관리 등 웹 브라우저가 제공하는 모든 기능을 자체적으로 제공\n",
        "- 안드로이드에 내장된 웹킷(WebKit) 라이브러리가 처리하므로 원하는 곳에 배치한 후\n",
        "주소를 넘겨주면 동작함\n",
        "  - 웹킷은 오픈 소스이며 사파리, 크롬 등에 채용되어 성능이 입증됨\n",
        "- 인터넷 엑세스를 위해 권한이 필요함\n",
        "  - 요금 문제와 관련되므로 반드시 사용자의 허가나 동의가 필요함\n",
        "- 웹을 사용하는 프로그램은 ```AndroidManifest.xml```에 INTERNET permission을 반드시 지정해야 함\n",
        "      <uses-permission android:name=\"android.permission.INTERNET\" />\n",
        "- 웹뷰를 사용하여 간단한 웹 브라우저를 만들 수 있으며 액티비티의 일부에 웹 페이지\n",
        "표시 가능"
      ]
    },
    {
      "cell_type": "markdown",
      "metadata": {
        "id": "ejPWE2eyPE32"
      },
      "source": [
        "- 웹 뷰의 설정 변경\n",
        "  - ```getSetting```메소드로 ```WebSettings``` 객체를 얻은 후 이 객체의 ```set*``` 메소드로 캐시 정책, 폰트 크기, 확대 여부, 스크립트 허용 여부 등의 설정 변경 가능\n",
        "  - 디폴트가 무난하나 몇 가지 설정은 꼭 변경해야 함\n",
        "  - ```JavaScript```는 필수\n",
        "  - 내장 확대 기능을 사용할 경우 아래쪽에 확대, 축소 버튼이 나타나 사용자가 직접\n",
        "배율 조절 가능하여 편리함\n",
        "  - 히스토리의 앞, 뒤 이동 기능 제공 메소드\n",
        "  - 웹 뷰는 로컬의 ```HTML``` 파일도 표시 가능\n",
        "        void goBack ()   \n",
        "        void goForward ()  \n",
        "        boolean canGoBack () \n",
        "        boolean canGoForward()  "
      ]
    },
    {
      "cell_type": "code",
      "metadata": {
        "id": "YpBFIkI2T2yD"
      },
      "source": [
        "# Or you can do it also on the terminal:\n",
        "pip install flask"
      ],
      "execution_count": null,
      "outputs": []
    },
    {
      "cell_type": "code",
      "metadata": {
        "id": "yxn5LXTHUCp7"
      },
      "source": [
        "# On PyCharm\n",
        "# main.py - flask server\n",
        "\n",
        "from flask import Flask, request\n",
        "from flask import render_template\n",
        "\n",
        "# Create an app\n",
        "app = Flask(__name__)\n",
        "\n",
        "# A function to send and receive request\n",
        "# static directory index.html\n",
        "@app.route('/')\n",
        "def index():\n",
        "    # load and display an HTML template\n",
        "    return render_template('index.html')\n",
        "\n",
        "# Run a server to access it using your own IP.\n",
        "app.run(host='0.0.0.0', debug=True)"
      ],
      "execution_count": null,
      "outputs": []
    },
    {
      "cell_type": "markdown",
      "metadata": {
        "id": "R6USeWk9T8QU"
      },
      "source": [
        "```templates``` 디렉토리를 만들고 ```index.html``` 파일을 생성하고 작성"
      ]
    },
    {
      "cell_type": "code",
      "metadata": {
        "id": "K8iww52hQWUA"
      },
      "source": [
        "<!DOCTYPE html>\n",
        "  <html lang=\"ko\">\n",
        "  <head>\n",
        "    <meta charset=\"UTF-8\">\n",
        "    <meta name=\"viewport\" content=\"width=device-width, initial-scale=1.0\">\n",
        "    <title></title>\n",
        "  </head>\n",
        "\n",
        "  <body>\n",
        "    <h1>Hi there. This is a test server</h1>\n",
        "  </body>\n",
        "</html>"
      ],
      "execution_count": null,
      "outputs": []
    },
    {
      "cell_type": "markdown",
      "metadata": {
        "id": "IfY4W_THUR7S"
      },
      "source": [
        "프로젝트 실행, IP와 PORT 번호 확인"
      ]
    },
    {
      "cell_type": "code",
      "metadata": {
        "id": "s3w1cY0JUcvZ"
      },
      "source": [
        " * Serving Flask app 'main' (lazy loading)\n",
        " * Environment: production\n",
        "   WARNING: This is a development server. Do not use it in a production deployment.\n",
        "   Use a production WSGI server instead.\n",
        " * Debug mode: on\n",
        " * Restarting with stat\n",
        " * Debugger is active!\n",
        " * Debugger PIN: 000-000-000\n",
        " * Running on all addresses.\n",
        "   WARNING: This is a development server. Do not use it in a production deployment.\n",
        " * Running on http://000.00.0.00:8000/ (Press CTRL+C to quit)"
      ],
      "execution_count": null,
      "outputs": []
    },
    {
      "cell_type": "markdown",
      "metadata": {
        "id": "AAirmnA9VKk4"
      },
      "source": [
        "IP 주소로 가보면 ```HTML``` 페이지가 실행중."
      ]
    },
    {
      "cell_type": "code",
      "metadata": {
        "colab": {
          "base_uri": "https://localhost:8080/",
          "height": 208
        },
        "id": "SZq6GyYWVVB-",
        "outputId": "65486d78-2e4d-4258-b2b0-5e7c3a6e6fec"
      },
      "source": [
        "import cv2 \n",
        "from google.colab.patches import cv2_imshow\n",
        "\n",
        "flask_server = \"/content/flask_server.png\"\n",
        "img = cv2.imread(flask_server)\n",
        "cv2_imshow(img)"
      ],
      "execution_count": null,
      "outputs": [
        {
          "output_type": "display_data",
          "data": {
            "image/png": "[encoded data removed]",
            "text/plain": [
              "<PIL.Image.Image image mode=RGB size=496x191 at 0x7F44069E96D0>"
            ]
          },
          "metadata": {}
        }
      ]
    },
    {
      "cell_type": "markdown",
      "metadata": {
        "id": "p6jAxRa0TXIz"
      },
      "source": [
        "## 4) 안드로이드 프로젝트에 Flask 웹사이트 연동\n",
        "\n",
        "- 안드로이드 프로젝트 생성 – PythonApplication\n",
        "- ```AndroidManifest.xml```에 추가  \n",
        "        <uses-permission android:name=\"android.permission.INTERNET\" />\n",
        "- 접속하려는 사이트가 https 가 아니면 아래 코드를 ```AndroidManifest.xml``` 파일의 ```application``` 태그에 추가\n",
        "        android:usesCleartextTraffic=\"true\""
      ]
    },
    {
      "cell_type": "markdown",
      "metadata": {
        "id": "trydShzOTeRD"
      },
      "source": [
        "```MainActivity``` 파일에 화면 구성 요소를 가리킬 변수를 선언     \n",
        "\n",
        "        WebView webView;\n",
        "        EditText addr;  \n",
        "        Button btngo, btnback,btnforward,btnlocal;  \n",
        "      "
      ]
    },
    {
      "cell_type": "code",
      "metadata": {
        "id": "-WwfhnTyTjib"
      },
      "source": [
        "package com.example.pythonproj;\n",
        "\n",
        "import androidx.appcompat.app.AppCompatActivity;\n",
        "\n",
        "import android.os.Bundle;\n",
        "import android.os.Handler;\n",
        "import android.os.Looper;\n",
        "import android.os.Message;\n",
        "import android.view.View;\n",
        "import android.webkit.WebView;\n",
        "import android.widget.Button;\n",
        "import android.widget.TextView;\n",
        "\n",
        "public class WebActivity extends AppCompatActivity {\n",
        "\n",
        "    @Override\n",
        "    protected void onCreate(Bundle savedInstanceState){\n",
        "        super.onCreate(savedInstanceState);\n",
        "        setContentView(R.layout.activity_web);\n",
        "\n",
        "        WebView webview = (WebView)findViewById(R.id.webview);\n",
        "        webview.loadUrl(\"http://000.00.0.00:0000\");\n",
        "    }\n",
        "}"
      ],
      "execution_count": null,
      "outputs": []
    },
    {
      "cell_type": "markdown",
      "metadata": {
        "id": "W0-IYPmuSLtV"
      },
      "source": [
        "**```activity_web.xml```**에서 디자인 변경"
      ]
    },
    {
      "cell_type": "code",
      "metadata": {
        "id": "tyEnf8hqSKNg"
      },
      "source": [
        "<?xml version=\"1.0\" encoding=\"utf-8\"?>\n",
        "<LinearLayout xmlns:android=\"http://schemas.android.com/apk/res/android\"\n",
        "    xmlns:app=\"http://schemas.android.com/apk/res-auto\"\n",
        "    xmlns:tools=\"http://schemas.android.com/tools\"\n",
        "    android:layout_width=\"match_parent\"\n",
        "    android:layout_height=\"match_parent\"\n",
        "    tools:context=\".MainActivity\">\n",
        "\n",
        "    <WebView\n",
        "        android:layout_width=\"match_parent\"\n",
        "        android:layout_height=\"wrap_content\"\n",
        "        android:id=\"@+id/webview\" />\n",
        "</LinearLayout>"
      ],
      "execution_count": null,
      "outputs": []
    },
    {
      "cell_type": "markdown",
      "metadata": {
        "id": "vfNePOUlSPJl"
      },
      "source": [
        "```WebView```로 ```url``` 출력"
      ]
    },
    {
      "cell_type": "code",
      "metadata": {
        "id": "4Pdzwuw-SpyF"
      },
      "source": [
        "public class WebActivity extends AppCompatActivity {\n",
        "\n",
        "    @Override\n",
        "    protected void onCreate(Bundle savedInstanceState){\n",
        "        super.onCreate(savedInstanceState);\n",
        "        setContentView(R.layout.activity_web);\n",
        "\n",
        "        WebView webview = (WebView)findViewById(R.id.webview);\n",
        "        webview.loadUrl(\"http://000.00.0.00:0000\");\n",
        "    }\n",
        "}"
      ],
      "execution_count": null,
      "outputs": []
    },
    {
      "cell_type": "markdown",
      "metadata": {
        "id": "IOn7u6RRU2LR"
      },
      "source": [
        "인터넷 권한 설정\n",
        "```<uses-permission android:name=\"android.permission.INTERNET\"/>```"
      ]
    },
    {
      "cell_type": "code",
      "metadata": {
        "id": "CBdT_P1RU2n0"
      },
      "source": [
        "<?xml version=\"1.0\" encoding=\"utf-8\"?>\n",
        "<manifest xmlns:android=\"http://schemas.android.com/apk/res/android\"\n",
        "    package=\"com.example.pythonproj\">\n",
        "\n",
        "    <!-- 인터넷 권한 설정 -->\n",
        "    <uses-permission android:name=\"android.permission.INTERNET\"/>\n",
        "    <application\n",
        "        android:allowBackup=\"true\"\n",
        "        android:icon=\"@mipmap/ic_launcher\"\n",
        "        android:label=\"@string/app_name\""
      ],
      "execution_count": null,
      "outputs": []
    },
    {
      "cell_type": "markdown",
      "metadata": {
        "id": "NyJjwUkVVrgL"
      },
      "source": [
        "```AndroidMnifest.xml```파일에 ```<application>``` 태그 추가\n",
        "\n",
        "- 보안이 취약한(https가 아닌) 웹사이트에 대한 접근 허용"
      ]
    },
    {
      "cell_type": "code",
      "metadata": {
        "id": "dhsTtgXwVx3w"
      },
      "source": [
        "  <application\n",
        "      android:usesCleartextTraffic=\"true\""
      ],
      "execution_count": null,
      "outputs": []
    },
    {
      "cell_type": "code",
      "metadata": {
        "colab": {
          "base_uri": "https://localhost:8080/",
          "height": 445
        },
        "id": "UWYctRYus3yz",
        "outputId": "53f8a959-cf86-4c16-8f9d-232385b0a52d"
      },
      "source": [
        "flask_server = cv2.imread(\"/content/flask_server_on_Android.png\")\n",
        "flask_server = cv2.resize(flask_server, dsize=(0,0), fx=0.5, fy=0.5)\n",
        "cv2_imshow(flask_server)"
      ],
      "execution_count": null,
      "outputs": [
        {
          "output_type": "display_data",
          "data": {
            "image/png": "[encoded data removed]",
            "text/plain": [
              "<PIL.Image.Image image mode=RGB size=246x428 at 0x7F44068FFAD0>"
            ]
          },
          "metadata": {}
        }
      ]
    },
    {
      "cell_type": "markdown",
      "metadata": {
        "id": "jtx5jfk5SMmf"
      },
      "source": [
        "## WebView 옵션 설정\n",
        "- 옵션 설정은 getSettings()를 호출해서 리턴하는 객체에 설정\n",
        "- WebView 의 설정 메소드\n",
        "  - ```setJavaScriptEnabled(true);```  javascript를 실행할 수 있도록 설정\n",
        "  - ```setJavaScriptCanOpenWindowsAutomatically (true);``` javascript가 ``` window.open()``` 을 사용할 수 있도록 설정\n",
        "  - ```setBuiltInZoomControls(false);``` 안드로이드에서 제공하는 줌 아이콘을 사용할 수 있도록 설정\n",
        "  - ```setSupportZoom(false);``` 확대,축소 기능을 사용할 수 있도록 설정\n",
        "  - ```setPluginState(WebSettings.PluginState.ON_DEMAND);```  플러그인을 사용할 수 있도록 설정\n",
        "  - ```setSupportMultipleWindows(false);``` 여러 개의 윈도우를 사용할 수 있도록 설정\n",
        "  - ```setBlockNetworkImage(false);```  네트워크의 이미지의 리소스를 로드하지 않음\n",
        "  - ```setLoadsImagesAutomatically(true);``` 웹뷰가 앱에 등록되어 있는 이미지 리소스를 자동으\n",
        "로 로드하도록 설정\n",
        "  - ```setUseWideViewPort(true);``` wide viewport를 사용하도록 설정\n",
        "  - ```setCacheMode(WebSettings.LOAD_NO_CACHE);``` 웹뷰가 캐시를 사용하지 않도록 설정\n",
        "- ``` WebView```  의 ``` addJavaScriptInterface```  메소드를 이용하여 사용할 ``` AndroidJavaScriptInterface``` 를 등\n",
        "록하고 별도의 이름을 등록하면 이름을 이용해서 웹 페이지에서 안드로이드 네이티브 앱의 메소드를 호출할 수 있음\n",
        "- 안드로이드 네이티브 앱에서 자바스크립트 메소드를 호출할 때는 ``` loadUrl```  함수를 이용"
      ]
    }
  ]
}