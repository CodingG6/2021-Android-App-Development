{
  "nbformat": 4,
  "nbformat_minor": 0,
  "metadata": {
    "colab": {
      "name": "06 Android로 하는 딥러닝 - 1 그림 분류 어플리케이션.ipynb",
      "provenance": [],
      "collapsed_sections": [],
      "toc_visible": true,
      "machine_shape": "hm"
    },
    "kernelspec": {
      "name": "python3",
      "display_name": "Python 3"
    },
    "language_info": {
      "name": "python"
    },
    "accelerator": "TPU"
  },
  "cells": [
    {
      "cell_type": "markdown",
      "metadata": {
        "id": "-PKFgUF2SjRO"
      },
      "source": [
        "# 안드로이드로 하는 딥러닝\n",
        "Deep learning with Android"
      ]
    },
    {
      "cell_type": "markdown",
      "metadata": {
        "id": "PX11xNdXmtLr"
      },
      "source": [
        "## Android Studio Project와 Github 연동\n",
        "- 최근의 IDE는 IDE에 Git을 연동하는 방식을 많이 취함\n",
        "\n",
        "**1) Android Studio**\n",
        "- [File] - [Settings] 메뉴를 실행\n",
        "- 메뉴에서 [Version Control] - [GitHub] 선택, Add account 클릭  \n",
        " **안돼면... 반대로 시행**\n",
        "- Or... [log in with token] 클릭\n",
        "- Android Studio 에서 토큰 생성 후 깃헙에 등록해 줌.\n",
        "\n",
        "**2) Github에서 설정**\n",
        "- 깃헙에서 로그인을 한 후...\n",
        "- [Developer Settings] - [Personal access tokens] - [Generate new token]\n",
        "- 권한 설정: repo, user, delete_repo, write:discussion, admin:enterprise, admin:gpg_key 정도 권한을 부여한다.\n",
        "- Generate token 클릭\n",
        "- 생성한 token url 복사\n",
        "\n",
        "3) 프로젝트 업로드\n",
        "- VSC 메뉴의 share project github 클릭\n",
        "\n",
        "4) 프로젝트 가져오기\n",
        "[File] - [New] - [Get from Version Control] 선택 후 url 입력\n",
        "- https://github.com/itggangpae/DigitClassifier"
      ]
    },
    {
      "cell_type": "markdown",
      "metadata": {
        "id": "BWvIhlt1wdc6"
      },
      "source": [
        "# 뷰 위에 숫자를 그리면 해당 그림을 분류하는 안드로이드 어플리케이션\n",
        "모델이 만들어져 있다고 가정 https://ggangpae1.tistory.com/505\n",
        "\n",
        "1. 안드로이드 프로젝트 생성\n",
        "\n",
        "2. 안드로이드 화면에 그림을 그릴 수 있는 뷰사용을 위한 설정\n",
        "- 이 설정 없이 직접 drawing하는 것도 가능은 하지만 코드가 어려워짐\n",
        "- 이미 만들어진 라이브러리 사용\n",
        "    - 예전에 만들어진 라이브러리는 settings.gradle과 build.gradle을 이용하고 \n",
        "    - 최근 만들어진 라이브러리는 프로젝트 수준의 build.gradle과 module 수준의 build.gradle을 이용\n",
        "\n",
        "repository \n",
        "- 언어나 프레임워크의 라이브러리를 저장하고 있는 장소\n",
        "- Central repository는 라이브러리가 모여있는 장소인데 개발자들이 가장 많이 이용하는 장소\n",
        "- 대부분의 언어는 기본적으로 central repository에 외부의 라이브러리를 다운 받음. \n",
        "- R에서는 CRAN이라고 부름.\n",
        "\n",
        "> Central repository에서 제공하지 않는 라이브러리는 저장소를 직접 설정해야 함.\n",
        "\n",
        "1) settings.gradle 파일의 repositories에 추가\n",
        "- 저장소를 추가 \n",
        "  - `maven{url 'https://jitpack.io'}\n",
        "\n",
        "2) module 수준의 build.gradle 파일의 dependencies 에 추가  \n",
        "implementation 'com.github.divyanshub024:AndroidDraw:v0.1\n",
        "\n",
        "3) 프로젝트에 assets 디렉토리를 생성해서 tflite 파일을 복사"
      ]
    },
    {
      "cell_type": "code",
      "metadata": {
        "id": "MCZlMSqUmsKL"
      },
      "source": [
        ""
      ],
      "execution_count": null,
      "outputs": []
    },
    {
      "cell_type": "markdown",
      "metadata": {
        "id": "5V18tknFU2jq"
      },
      "source": [
        "# Error Notes\n",
        "\n",
        "        ValueError: Shape mismatch: The shape of labels (received (320,)) \n",
        "        should equal the shape of logits \n",
        "        except for the last dimension (received (32, 10)).\n",
        "\n",
        "- When you are running the same model built with different methods multiple times, be sure to reset runtime to clear memory. \n",
        "\n"
      ]
    }
  ]
}
