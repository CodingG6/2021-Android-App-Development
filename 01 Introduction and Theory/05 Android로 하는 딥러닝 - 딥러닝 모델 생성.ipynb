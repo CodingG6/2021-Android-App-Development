{
  "nbformat": 4,
  "nbformat_minor": 0,
  "metadata": {
    "colab": {
      "name": "05 Android로 하는 딥러닝 - 딥러닝 모델 생성.ipynb",
      "provenance": [],
      "collapsed_sections": [],
      "machine_shape": "hm"
    },
    "kernelspec": {
      "name": "python3",
      "display_name": "Python 3"
    },
    "language_info": {
      "name": "python"
    },
    "accelerator": "TPU"
  },
  "cells": [
    {
      "cell_type": "markdown",
      "metadata": {
        "id": "-PKFgUF2SjRO"
      },
      "source": [
        "# 안드로이드로 하는 딥러닝\n",
        "Deep learning with Android"
      ]
    },
    {
      "cell_type": "markdown",
      "metadata": {
        "id": "Y9SiDs43ShS-"
      },
      "source": [
        "- 기계학습 모델을 서버에 두고, 스마트폰의 앱/웹브라우저는 입출력만 수행. \n",
        "\n",
        "  - 스마트폰/웹브라우저에서 데이터 입출력하는 방법을 배우면 됨.\n",
        "\n",
        "  - **단점**: \n",
        "\n",
        "    1. 항상 온라인 상태여야 함. \n",
        "\n",
        "    2. 모델을 수정하면 다시 배포해야 함.\n",
        "    3. PC에서 수행했던 전처리를 스마트폰에서 다시 수행해야 하는데 이 때 언어나 프레임워크가 지원이 안 될 수 있음.\n",
        "    4. OpenCV 같은 경우 언어 별로 별도로 라이브러리가 존재. 모든 디바이스에서 C++ 지원.\n",
        "\n",
        "  - **장점**: 모델을 한 번만 생성, 온라인 아니어도 사용 가능.\n",
        "\n",
        "  - 1) 스마트폰/웹 브라우저에 기계 학습 모델을 저장해 스마트폰/웹 브라우저가 작업을 수행, 출력하도록 함. \n",
        "\n",
        "    2) 모델 자체는 일반적으로 PC에서 만들고 이를 스마트폰이나 웹브라우저에서 사용할 수 있도록 변환.\n",
        "\n",
        "    3) Keras:\n",
        "\n",
        "       - 안드로이드에서 동작하는 TensorFlow Light (tflite)이 있음.\n",
        "\n",
        "       - 웹브라우저용 TensorFlow.js 모델로 변환해서 사용\n",
        "\n",
        "- 딥러닝\n",
        "\n",
        "  1. Workflow: TensorFlow Light 모델 개발\n",
        "\n",
        "     - 모델 생성 - 모델 변환 - 기기 배포 - 모델 최적화(다시 모델 변환 작업을 하는 경우도 있음)\n",
        "\n",
        "  2. 모델 생성(이 단계에서 최적화 할 수도 있음)\n",
        "\n",
        "     - 직접 생성하거나 이미 개발된 모델 이용\n",
        "\n",
        "       1) 모델 직접 개발: 설계 >> 학습 >> 변환\n",
        "\n",
        "          - 사전 학습 모델 이용(tf): 학습 >> 변환의 과정이나 변환만으로 사용\n",
        "          - 사전 학습 모델 이용(tflite): 아무런 작업도 할 필요가 없음\n",
        "            - keras 모듈에서 제공하기도 하고  Tensorfloor Hub provides the model.\n",
        "            -  이미지 분류, 객체 탐지, 입지 분할, 자세 추정, 스타일 변환, 텍스트 분류, 질의 응답, 스마트 답장(챗봇)\n",
        "          - 전이 학습: 학습 >> 변환\n",
        "            - 학습이 완료된 모델을 다른 문제에 다시 학습\n",
        "          - 텐서플로우 허브 tfhub.dev\n",
        "          - 텐서플로우 허브 \n",
        "          - Papers with Code paperswidcode.com/sorta\n",
        "\n",
        "          - 데이터셋:\n",
        "            - ft dataset, google research dataset. google cloud dataset용, kaggle dataset\n",
        "    - 모델 평가\n",
        "\n",
        "  3. 모델 변환\n",
        "\n",
        "     - tflite로 변환(확장자가 .tflite가 일반적)\n",
        "\n",
        "  4. 기기 배포\n",
        "\n",
        "     - 안드로이드 프로젝트의  assets 디렉토리에 변환된 모델을 복사.\n",
        "       - 처음에 복사하지 않고 앱을 실행할 때 서버에서 다운로드 받아도 됨.\n",
        "     - assets 디렉토리와 res 디렉토리의 차이:\n",
        "       -  assets 디렉토리의 내용은 필요할 때 읽어옴\n",
        "       - res 디렉토리의 내용은 \n",
        "\n",
        "  5. 모델 최적화\n",
        "\n",
        "     - 모델을 만들 때도 수행하지만 안드로이드 기기에서 최적화 되었는지 다시 확인하기도 함.\n",
        "\n",
        "5) MNIST 데이터셋을 이용해 손글씨 분류 모델 만들기\n",
        "   - 저수준 API (tensorflow, Theano, CNTK)나 고수준 API (Keras, Pytorch)에서 하나를 선택\n",
        "   - 데이터 준비: tensorflow dataset\n",
        "     - 70,000장의 이미지(28*28)\n",
        "     - X_train: 60,000장 \n",
        "     - y_train: 10,000장\n",
        "     - y_test: \n",
        "\n"
      ]
    },
    {
      "cell_type": "markdown",
      "metadata": {
        "id": "alFvNvNWKY8R"
      },
      "source": [
        "## 데이터 준비"
      ]
    },
    {
      "cell_type": "code",
      "metadata": {
        "id": "KRNu9dkCKONa"
      },
      "source": [
        "import tensorflow as tf\n",
        "\n",
        "mnist = tf.keras.datasets.mnist\n",
        "\n",
        "(X_train, y_train), (X_test, y_test) = mnist.load_data()\n"
      ],
      "execution_count": 1,
      "outputs": []
    },
    {
      "cell_type": "code",
      "metadata": {
        "id": "i7MF-Lz0LvO_"
      },
      "source": [
        "# feature scaling (data normalisation)\n",
        "# 정규화를 했을 때 정확도가 하지 않았을 때보다 높게 나옴\n",
        "# 원본 데이터 범위 0 ~ 255  ---> 정규화 범위 0.0 ~ 1.0 \n",
        "X_train, X_test = X_train/255.0, X_test/255.0"
      ],
      "execution_count": 2,
      "outputs": []
    },
    {
      "cell_type": "markdown",
      "metadata": {
        "id": "HfRAe2arVGlS"
      },
      "source": [
        "## 모델 생성"
      ]
    },
    {
      "cell_type": "code",
      "metadata": {
        "id": "B3Qj5njSMY7K"
      },
      "source": [
        "# 모델 생성\n",
        "mlp_model = tf.keras.models.Sequential([\n",
        "                                        tf.keras.layers.Flatten(input_shape=(28, 28)),\n",
        "                                        tf.keras.layers.Dense(128, activation='relu'),\n",
        "                                        tf.keras.layers.Dense(10, activation='softmax')\n",
        "])"
      ],
      "execution_count": null,
      "outputs": []
    },
    {
      "cell_type": "markdown",
      "metadata": {
        "id": "QBFJ5f3_TmGk"
      },
      "source": [
        "### 함수를 이용한 모델 생성(Functional API 이용)"
      ]
    },
    {
      "cell_type": "code",
      "metadata": {
        "colab": {
          "base_uri": "https://localhost:8080/"
        },
        "id": "8aPbwqFISzfy",
        "outputId": "b4a22276-e208-4dc2-d87a-64c53cd26407"
      },
      "source": [
        "# DNN - 다중 퍼셉트론 모델\n",
        "inputs = tf.keras.Input(shape=(28,28))\n",
        "x = tf.keras.layers.Flatten()(inputs)\n",
        "x = tf.keras.layers.Dense(128, activation='relu')(x)\n",
        "outputs = tf.keras.layers.Dense(10, activation='softmax')(x)\n",
        "mlp_model = tf.keras.Model(inputs=inputs, outputs=outputs)\n",
        "\n",
        "mlp_model.compile(optimizer='adam',\n",
        "                  loss='sparse_categorical_crossentropy',\n",
        "                  metrics=['accuracy'])\n",
        "\n",
        "mlp_model.fit(X_train, y_train, epochs=5)\n",
        "mlp_model.evaluate(X_test, y_test, verbose=1)"
      ],
      "execution_count": 3,
      "outputs": [
        {
          "output_type": "stream",
          "name": "stdout",
          "text": [
            "Epoch 1/5\n",
            "1875/1875 [==============================] - 3s 2ms/step - loss: 0.2637 - accuracy: 0.9234\n",
            "Epoch 2/5\n",
            "1875/1875 [==============================] - 3s 1ms/step - loss: 0.1172 - accuracy: 0.9653\n",
            "Epoch 3/5\n",
            "1875/1875 [==============================] - 3s 1ms/step - loss: 0.0798 - accuracy: 0.9756\n",
            "Epoch 4/5\n",
            "1875/1875 [==============================] - 3s 1ms/step - loss: 0.0602 - accuracy: 0.9816\n",
            "Epoch 5/5\n",
            "1875/1875 [==============================] - 3s 2ms/step - loss: 0.0455 - accuracy: 0.9856\n",
            "313/313 [==============================] - 0s 1ms/step - loss: 0.0772 - accuracy: 0.9771\n"
          ]
        },
        {
          "output_type": "execute_result",
          "data": {
            "text/plain": [
              "[0.07716403901576996, 0.9771000146865845]"
            ]
          },
          "metadata": {},
          "execution_count": 3
        }
      ]
    },
    {
      "cell_type": "markdown",
      "metadata": {
        "id": "E-kSUpWfVBgi"
      },
      "source": [
        "### 상속을 이용한 모델 생성\n"
      ]
    },
    {
      "cell_type": "code",
      "metadata": {
        "colab": {
          "base_uri": "https://localhost:8080/"
        },
        "id": "TQ5EG-xeVDnh",
        "outputId": "73752eeb-395e-4a02-a633-1a54066ed245"
      },
      "source": [
        "# 재사용성이 가장 높음 - 모델 자체를 배포할 때도 이 방식 사용\n",
        "\n",
        "class MLP_Model(tf.keras.Model):\n",
        "    def __init__(self):\n",
        "        super(MLP_Model, self).__init__()\n",
        "        self.flatten = tf.keras.layers.Flatten()\n",
        "        self.dense = tf.keras.layers.Dense(128, activation='relu')\n",
        "        self.softmax = tf.keras.layers.Dense(10, activation='softmax')\n",
        "\n",
        "    def call(self, inputs):\n",
        "        x = self.flatten(inputs)\n",
        "        x = self.dense(x)\n",
        "        return self.softmax(x)\n",
        "\n",
        "mlp_model = MLP_Model()\n",
        "\n",
        "mlp_model.compile(optimizer='adam',\n",
        "                  loss='sparse_categorical_crossentropy',\n",
        "                  metrics=['accuracy'])\n",
        "\n",
        "mlp_model.fit(X_train, y_train, epochs=5)\n",
        "mlp_model.evaluate(X_test, y_test, verbose=2)"
      ],
      "execution_count": 6,
      "outputs": [
        {
          "output_type": "stream",
          "name": "stdout",
          "text": [
            "Epoch 1/5\n",
            "1875/1875 [==============================] - 4s 2ms/step - loss: 0.2585 - accuracy: 0.9266\n",
            "Epoch 2/5\n",
            "1875/1875 [==============================] - 3s 2ms/step - loss: 0.1139 - accuracy: 0.9666\n",
            "Epoch 3/5\n",
            "1875/1875 [==============================] - 3s 2ms/step - loss: 0.0786 - accuracy: 0.9763\n",
            "Epoch 4/5\n",
            "1875/1875 [==============================] - 4s 2ms/step - loss: 0.0583 - accuracy: 0.9820\n",
            "Epoch 5/5\n",
            "1875/1875 [==============================] - 3s 2ms/step - loss: 0.0456 - accuracy: 0.9855\n",
            "313/313 - 0s - loss: 0.0769 - accuracy: 0.9759\n"
          ]
        },
        {
          "output_type": "execute_result",
          "data": {
            "text/plain": [
              "[0.07685790210962296, 0.9758999943733215]"
            ]
          },
          "metadata": {},
          "execution_count": 6
        }
      ]
    },
    {
      "cell_type": "markdown",
      "metadata": {
        "id": "dJPU9xiyPonB"
      },
      "source": [
        "## 모델 컴파일\n",
        "compile the model"
      ]
    },
    {
      "cell_type": "code",
      "metadata": {
        "colab": {
          "base_uri": "https://localhost:8080/"
        },
        "id": "Rigezi4mPn4C",
        "outputId": "890b750e-a27f-4c8d-fdde-2b3c94b597d4"
      },
      "source": [
        "mlp_model.compile(optimizer='adam',\n",
        "                  loss='sparse_categorical_crossentropy',\n",
        "                  metrics=['acuracy'])\n",
        "# loss fucntiom은 회귀의 경우 MSE(값), 분류의 경우 CrossEntropy(확률) 사용\n",
        "# 회귀에서는 MSE 대신 MAE, RMSE 등 사용\n",
        "\n",
        "# 이진 분류에서는 binary_crossentropy\n",
        "# 다중 분류: sparse_categorical crossentropy나 categorical_crossentropy\n",
        "# 원핫 인코딩 적용: categorical_crossentropy\n",
        "# 원핫 인코딩 미적용: sparse_categorical_crossentropy\n",
        "\n",
        "y_train = tf.keras.utils.to_categorical(y_train)\n",
        "y_test = tf.keras.utils.to_categorical(y_test)\n",
        "mlp_model.compile(optimizer='adam',\n",
        "                  loss='categorical_crossentropy',\n",
        "                  metrics=['accuracy'])\n",
        "\n",
        "mlp_model.fit(X_train, y_train, epochs=5)\n",
        "mlp_model.evaluate(X_test, y_test, verbose=2)"
      ],
      "execution_count": 4,
      "outputs": [
        {
          "output_type": "stream",
          "name": "stdout",
          "text": [
            "Epoch 1/5\n",
            "1875/1875 [==============================] - 3s 2ms/step - loss: 0.0377 - accuracy: 0.9881\n",
            "Epoch 2/5\n",
            "1875/1875 [==============================] - 3s 2ms/step - loss: 0.0282 - accuracy: 0.9913\n",
            "Epoch 3/5\n",
            "1875/1875 [==============================] - 3s 2ms/step - loss: 0.0231 - accuracy: 0.9927\n",
            "Epoch 4/5\n",
            "1875/1875 [==============================] - 3s 1ms/step - loss: 0.0189 - accuracy: 0.9942\n",
            "Epoch 5/5\n",
            "1875/1875 [==============================] - 3s 1ms/step - loss: 0.0160 - accuracy: 0.9949\n",
            "313/313 - 0s - loss: 0.0746 - accuracy: 0.9789\n"
          ]
        },
        {
          "output_type": "execute_result",
          "data": {
            "text/plain": [
              "[0.07457836717367172, 0.9789000153541565]"
            ]
          },
          "metadata": {},
          "execution_count": 4
        }
      ]
    },
    {
      "cell_type": "markdown",
      "metadata": {
        "id": "B9N8dFIaRp3f"
      },
      "source": [
        "## 모델 구조 확인"
      ]
    },
    {
      "cell_type": "code",
      "metadata": {
        "colab": {
          "base_uri": "https://localhost:8080/"
        },
        "id": "QJaI09iEQws1",
        "outputId": "0aa85025-7eb6-4d11-d40a-d520b5085de5"
      },
      "source": [
        "mlp_model.summary()"
      ],
      "execution_count": 5,
      "outputs": [
        {
          "output_type": "stream",
          "name": "stdout",
          "text": [
            "Model: \"model\"\n",
            "_________________________________________________________________\n",
            "Layer (type)                 Output Shape              Param #   \n",
            "=================================================================\n",
            "input_1 (InputLayer)         [(None, 28, 28)]          0         \n",
            "_________________________________________________________________\n",
            "flatten (Flatten)            (None, 784)               0         \n",
            "_________________________________________________________________\n",
            "dense (Dense)                (None, 128)               100480    \n",
            "_________________________________________________________________\n",
            "dense_1 (Dense)              (None, 10)                1290      \n",
            "=================================================================\n",
            "Total params: 101,770\n",
            "Trainable params: 101,770\n",
            "Non-trainable params: 0\n",
            "_________________________________________________________________\n"
          ]
        }
      ]
    },
    {
      "cell_type": "markdown",
      "metadata": {
        "id": "csjzcdsRSOit"
      },
      "source": [
        "## 모델 학습"
      ]
    },
    {
      "cell_type": "code",
      "metadata": {
        "colab": {
          "base_uri": "https://localhost:8080/"
        },
        "id": "Bup9qfocSQTv",
        "outputId": "7889441f-a592-452d-dc54-91e124478336"
      },
      "source": [
        "mlp_model.fit(X_train, y_train, epochs=5)"
      ],
      "execution_count": 6,
      "outputs": [
        {
          "output_type": "stream",
          "name": "stdout",
          "text": [
            "Epoch 1/5\n",
            "1875/1875 [==============================] - 3s 2ms/step - loss: 0.0129 - accuracy: 0.9963\n",
            "Epoch 2/5\n",
            "1875/1875 [==============================] - 3s 2ms/step - loss: 0.0104 - accuracy: 0.9968\n",
            "Epoch 3/5\n",
            "1875/1875 [==============================] - 3s 2ms/step - loss: 0.0105 - accuracy: 0.9969\n",
            "Epoch 4/5\n",
            "1875/1875 [==============================] - 3s 2ms/step - loss: 0.0083 - accuracy: 0.9975\n",
            "Epoch 5/5\n",
            "1875/1875 [==============================] - 3s 1ms/step - loss: 0.0081 - accuracy: 0.9974\n"
          ]
        },
        {
          "output_type": "execute_result",
          "data": {
            "text/plain": [
              "<keras.callbacks.History at 0x7f576a07d890>"
            ]
          },
          "metadata": {},
          "execution_count": 6
        }
      ]
    },
    {
      "cell_type": "markdown",
      "metadata": {
        "id": "x2s0_nHgSuU-"
      },
      "source": [
        "## 모델 평가"
      ]
    },
    {
      "cell_type": "code",
      "metadata": {
        "colab": {
          "base_uri": "https://localhost:8080/"
        },
        "id": "ZeRLeBvxSSiF",
        "outputId": "07262601-5415-4fca-b79a-f71485db2595"
      },
      "source": [
        "mlp_model.evaluate(X_test, y_test, verbose=1)"
      ],
      "execution_count": 7,
      "outputs": [
        {
          "output_type": "stream",
          "name": "stdout",
          "text": [
            "313/313 [==============================] - 0s 972us/step - loss: 0.0991 - accuracy: 0.9778\n"
          ]
        },
        {
          "output_type": "execute_result",
          "data": {
            "text/plain": [
              "[0.0990874171257019, 0.9778000116348267]"
            ]
          },
          "metadata": {},
          "execution_count": 7
        }
      ]
    },
    {
      "cell_type": "markdown",
      "metadata": {
        "id": "KFhgPf1DXD1v"
      },
      "source": [
        "## 합성곱 신경망(CNN)\n",
        "다중 perceptrons은 "
      ]
    },
    {
      "cell_type": "code",
      "metadata": {
        "colab": {
          "base_uri": "https://localhost:8080/"
        },
        "id": "rzp6JuN9XRVV",
        "outputId": "86f0f8c4-b99c-453f-99c0-09f27d4e5bdc"
      },
      "source": [
        "import tensorflow as tf\n",
        "\n",
        "mnist = tf.keras.datasets.mnist\n",
        "\n",
        "(X_train, y_train), (X_test, y_test) = mnist.load_data()\n",
        "\n",
        "X_train, X_test = X_train/255.0, X_test/255.0\n",
        "\n",
        "# 입력 데이터 수정\n",
        "X_train_4d = X_train.reshape(-1, 28, 28, 1)\n",
        "X_test_4d = X_test.reshape(-1, 28, 28, 1)\n",
        "\n",
        "cnn_model = tf.keras.models.Sequential([\n",
        "            tf.keras.layers.Conv2D(32, (3,3), activation='relu',\n",
        "                                   input_shape=(28,28,1)),\n",
        "            tf.keras.layers.MaxPooling2D((2,2)),\n",
        "            tf.keras.layers.Conv2D(64, (3,3), activation='relu'),    # Conv 층에서 데이터를 좀 늘려줌.  # MaxPooling이 데이터 수를 깎아먹기 때문.\n",
        "            tf.keras.layers.MaxPooling2D((2,2)),\n",
        "            tf.keras.layers.Conv2D(64, (3,3), activation='relu'),\n",
        "            tf.keras.layers.Flatten(),\n",
        "            tf.keras.layers.Dense(64, activation='relu'),\n",
        "            tf.keras.layers.Dense(10, activation='softmax')\n",
        "])\n",
        "\n",
        "cnn_model.compile(optimizer='adam',\n",
        "                  loss='sparse_categorical_crossentropy',\n",
        "                  metrics=['accuracy'])\n",
        "\n",
        "cnn_model.fit(X_train_4d, y_train, epochs=5)\n",
        "\n",
        "cnn_model.evaluate(X_test_4d, y_test, verbose=1)"
      ],
      "execution_count": 3,
      "outputs": [
        {
          "output_type": "stream",
          "name": "stdout",
          "text": [
            "Epoch 1/5\n",
            "1875/1875 [==============================] - 14s 7ms/step - loss: 0.1360 - accuracy: 0.9581\n",
            "Epoch 2/5\n",
            "1875/1875 [==============================] - 14s 8ms/step - loss: 0.0461 - accuracy: 0.9855\n",
            "Epoch 3/5\n",
            "1875/1875 [==============================] - 14s 8ms/step - loss: 0.0333 - accuracy: 0.9895\n",
            "Epoch 4/5\n",
            "1875/1875 [==============================] - 14s 8ms/step - loss: 0.0261 - accuracy: 0.9917\n",
            "Epoch 5/5\n",
            "1875/1875 [==============================] - 14s 8ms/step - loss: 0.0186 - accuracy: 0.9937\n",
            "313/313 [==============================] - 1s 2ms/step - loss: 0.0321 - accuracy: 0.9909\n"
          ]
        },
        {
          "output_type": "execute_result",
          "data": {
            "text/plain": [
              "[0.03209259733557701, 0.9908999800682068]"
            ]
          },
          "metadata": {},
          "execution_count": 3
        }
      ]
    },
    {
      "cell_type": "markdown",
      "metadata": {
        "id": "VIQHdGgufkoc"
      },
      "source": [
        "### ResNet 모델 생성\n"
      ]
    },
    {
      "cell_type": "code",
      "metadata": {
        "colab": {
          "base_uri": "https://localhost:8080/"
        },
        "id": "zn40-dRTeTKm",
        "outputId": "10529f71-9148-4045-e04d-d6021cd7083c"
      },
      "source": [
        "import tensorflow as tf\n",
        "\n",
        "# Load and scale data.\n",
        "mnist = tf.keras.datasets.mnist\n",
        "(X_train, y_train), (X_test, y_test) = mnist.load_data()\n",
        "X_train, X_test = X_train/255.0, X_test/255.0\n",
        "\n",
        "# 입력 데이터 수정\n",
        "X_train_4d = X_train.reshape(-1, 28, 28, 1)\n",
        "X_test_4d = X_test.reshape(-1, 28, 28, 1)\n",
        "\n",
        "# ResNet에 맞게 입력 데이터 수정\n",
        "resized_X_train = tf.image.resize(X_train_4d, [32, 32])\n",
        "resized_X_test = tf.image.resize(X_test_4d, [32, 32])\n",
        "\n",
        "# 모델 생성\n",
        "resnet_model = tf.keras.applications.ResNet50V2(\n",
        "                    input_shape=(32,32,1),\n",
        "                    classes=10,\n",
        "                    weights=None\n",
        ")\n",
        "\n",
        "resnet_model.compile(optimizer='adam',\n",
        "                  loss='sparse_categorical_crossentropy',\n",
        "                  metrics=['accuracy'])\n",
        "\n",
        "resnet_model.fit(resized_X_train, y_train, epochs=5)\n",
        "\n",
        "resnet_model.evaluate(resized_X_test, y_test, verbose=1)\n",
        "\n",
        "# 훈련을 하면 층의 깊이가 더 깊이서 시간이 더 오래 걸림."
      ],
      "execution_count": 9,
      "outputs": [
        {
          "output_type": "stream",
          "name": "stdout",
          "text": [
            "Epoch 1/5\n",
            "1875/1875 [==============================] - 410s 216ms/step - loss: 0.2244 - accuracy: 0.9387\n",
            "Epoch 2/5\n",
            "1875/1875 [==============================] - 402s 215ms/step - loss: 0.1244 - accuracy: 0.9684\n",
            "Epoch 3/5\n",
            "1875/1875 [==============================] - 421s 224ms/step - loss: 0.0755 - accuracy: 0.9787\n",
            "Epoch 4/5\n",
            "1875/1875 [==============================] - 428s 228ms/step - loss: 0.0866 - accuracy: 0.9780\n",
            "Epoch 5/5\n",
            "1875/1875 [==============================] - 432s 231ms/step - loss: 0.0656 - accuracy: 0.9824\n",
            "313/313 [==============================] - 18s 55ms/step - loss: 0.0261 - accuracy: 0.9922\n"
          ]
        },
        {
          "output_type": "execute_result",
          "data": {
            "text/plain": [
              "[0.02614090032875538, 0.9922000169754028]"
            ]
          },
          "metadata": {},
          "execution_count": 9
        }
      ]
    },
    {
      "cell_type": "markdown",
      "metadata": {
        "id": "roaqCfZYd6O4"
      },
      "source": [
        "### 전이학습 모델 생성 \n",
        "- Mobile TensorFlow Hub에서 가져옴.\n",
        "  - https://tfhub.dev/\n",
        "- Tensorflow Light model (tflite 확장자가 일반적)로 변환\n",
        "- tensorflow.lite.TFLiteConverter.from_keras_model(모델이름)을 호출해서 변환기를 만들고, convert 함수를 호출하면 모델이 변환됩니다.\n",
        "- 변환된 모델을 파일에 기록을 하면 됩니다. \n",
        "- 확장자는 특별한 경우가 아니면 tflite\n",
        "\n",
        "        모델 이름 = tf.keras.Sequential([\n",
        "            tensorflow_hun.KerasLayer(url, input_shape=(입력 구조), trainable=False),\n",
        "            tf.keras.layers.Dense(출력의 개수)\n",
        "        ])\n",
        "\n",
        "\n"
      ]
    },
    {
      "cell_type": "markdown",
      "metadata": {
        "id": "XURGP3wcjESw"
      },
      "source": [
        "## 이전에 생성한 모델을 TensorFlow Lite 모델로 변환"
      ]
    },
    {
      "cell_type": "code",
      "metadata": {
        "colab": {
          "base_uri": "https://localhost:8080/"
        },
        "id": "rIfn2pwljdwf",
        "outputId": "1a264369-3fc9-4108-af41-67305b6f9c92"
      },
      "source": [
        "from google.colab import drive\n",
        "drive.mount('here')"
      ],
      "execution_count": 3,
      "outputs": [
        {
          "output_type": "stream",
          "name": "stdout",
          "text": [
            "Mounted at here\n"
          ]
        }
      ]
    },
    {
      "cell_type": "code",
      "metadata": {
        "colab": {
          "base_uri": "https://localhost:8080/"
        },
        "id": "J7x4GB6QeEJY",
        "outputId": "9519fc44-fe42-475d-ab78-cc5a431ff9f4"
      },
      "source": [
        "converter = tf.lite.TFLiteConverter.from_keras_model(mlp_model)\n",
        "tflite_model = converter.convert()\n",
        "\n",
        "with open('/content/here/MyDrive/MLP_model/keras_model.tflite', 'wb') as f:\n",
        "    f.write(tflite_model)"
      ],
      "execution_count": 8,
      "outputs": [
        {
          "output_type": "stream",
          "name": "stdout",
          "text": [
            "INFO:tensorflow:Assets written to: /tmp/tmpww6fw5n4/assets\n"
          ]
        },
        {
          "output_type": "stream",
          "name": "stderr",
          "text": [
            "INFO:tensorflow:Assets written to: /tmp/tmpww6fw5n4/assets\n"
          ]
        }
      ]
    },
    {
      "cell_type": "markdown",
      "metadata": {
        "id": "5V18tknFU2jq"
      },
      "source": [
        "# Error Notes\n",
        "\n",
        "        ValueError: Shape mismatch: The shape of labels (received (320,)) \n",
        "        should equal the shape of logits \n",
        "        except for the last dimension (received (32, 10)).\n",
        "\n",
        "- When you are running the same model built with different methods multiple times, be sure to reset runtime to clear memory. \n",
        "\n"
      ]
    }
  ]
}
